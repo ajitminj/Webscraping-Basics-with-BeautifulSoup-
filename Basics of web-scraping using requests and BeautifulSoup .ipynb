{
 "cells": [
  {
   "cell_type": "code",
   "execution_count": 2,
   "id": "1239468e",
   "metadata": {},
   "outputs": [],
   "source": [
    "# Import requests library\n",
    "import requests"
   ]
  },
  {
   "cell_type": "markdown",
   "id": "afc37ab8",
   "metadata": {},
   "source": [
    "### Task 1: Use requests to get a response from the Wikipedia home page"
   ]
  },
  {
   "cell_type": "code",
   "execution_count": 60,
   "id": "36795c73",
   "metadata": {},
   "outputs": [],
   "source": [
    "# First assign the URL of Wikipedia home page to a string \n",
    "wiki_home = \"https://perspectives.eiu.com/technology-innovation/fact-or-fiction-overcoming-health-misinformation\""
   ]
  },
  {
   "cell_type": "code",
   "execution_count": 61,
   "id": "d1fc52fd",
   "metadata": {},
   "outputs": [],
   "source": [
    "# Use the 'get' method from requests library to get a response\n",
    "response = requests.get(wiki_home)"
   ]
  },
  {
   "cell_type": "code",
   "execution_count": 62,
   "id": "30719b22",
   "metadata": {},
   "outputs": [
    {
     "data": {
      "text/plain": [
       "requests.models.Response"
      ]
     },
     "execution_count": 62,
     "metadata": {},
     "output_type": "execute_result"
    }
   ],
   "source": [
    "# What is this 'response' object anyway\n",
    "type(response)"
   ]
  },
  {
   "cell_type": "markdown",
   "id": "eee66f5b",
   "metadata": {},
   "source": [
    "**Exercise 2: Write a small function to check the status of web request**\n",
    "\n",
    "***This kind of small helper/utility functions are incredibly useful for complex projects.***\n",
    "\n",
    "**Start building a habit of writing small functions to accomplish small modular tasks, instead of writing long scripts, which are hard to debug and track.**"
   ]
  },
  {
   "cell_type": "code",
   "execution_count": 63,
   "id": "fe2d24fe",
   "metadata": {},
   "outputs": [],
   "source": [
    "def status_check(r):\n",
    "    if r.status_code==200:\n",
    "        print(\"Success!\")\n",
    "        return 1\n",
    "    else:\n",
    "        print(\"Failed!\")\n",
    "        return -1"
   ]
  },
  {
   "cell_type": "code",
   "execution_count": 64,
   "id": "c4bb70bc",
   "metadata": {},
   "outputs": [
    {
     "name": "stdout",
     "output_type": "stream",
     "text": [
      "Success!\n"
     ]
    },
    {
     "data": {
      "text/plain": [
       "1"
      ]
     },
     "execution_count": 64,
     "metadata": {},
     "output_type": "execute_result"
    }
   ],
   "source": [
    "status_check(response)"
   ]
  },
  {
   "cell_type": "markdown",
   "id": "4d522f43",
   "metadata": {},
   "source": [
    "**Exercise 3: Write small function to check the encoding of the web page**"
   ]
  },
  {
   "cell_type": "code",
   "execution_count": 65,
   "id": "161eed5c",
   "metadata": {},
   "outputs": [],
   "source": [
    "def encoding_check(r):\n",
    "    return (r.encoding)"
   ]
  },
  {
   "cell_type": "code",
   "execution_count": 66,
   "id": "70abebd1",
   "metadata": {},
   "outputs": [
    {
     "data": {
      "text/plain": [
       "'utf-8'"
      ]
     },
     "execution_count": 66,
     "metadata": {},
     "output_type": "execute_result"
    }
   ],
   "source": [
    "encoding_check(response)"
   ]
  },
  {
   "cell_type": "markdown",
   "id": "a91da455",
   "metadata": {},
   "source": [
    "**Exercise 4: Write a small function to decode the concents of the response**"
   ]
  },
  {
   "cell_type": "code",
   "execution_count": 67,
   "id": "34345c99",
   "metadata": {},
   "outputs": [],
   "source": [
    "def decode_content(r,encoding):\n",
    "    return (r.content.decode(encoding))"
   ]
  },
  {
   "cell_type": "code",
   "execution_count": 68,
   "id": "2a499631",
   "metadata": {},
   "outputs": [],
   "source": [
    "contents = decode_content(response,encoding_check(response))"
   ]
  },
  {
   "cell_type": "markdown",
   "id": "3078dc4c",
   "metadata": {},
   "source": [
    "**What is the type of the contents?**"
   ]
  },
  {
   "cell_type": "code",
   "execution_count": 69,
   "id": "ea89f297",
   "metadata": {},
   "outputs": [
    {
     "data": {
      "text/plain": [
       "str"
      ]
     },
     "execution_count": 69,
     "metadata": {},
     "output_type": "execute_result"
    }
   ],
   "source": [
    "type(contents)"
   ]
  },
  {
   "cell_type": "markdown",
   "id": "af86b3fe",
   "metadata": {},
   "source": [
    "***Wow! Finally we got a string object. Super easy to read text from a popular webpage like Wikipedia***\n",
    "\n",
    "**Exercise 5: Check the length of the text you got back and print some selected portions**"
   ]
  },
  {
   "cell_type": "code",
   "execution_count": 70,
   "id": "1389de03",
   "metadata": {},
   "outputs": [
    {
     "data": {
      "text/plain": [
       "133594"
      ]
     },
     "execution_count": 70,
     "metadata": {},
     "output_type": "execute_result"
    }
   ],
   "source": [
    "len(contents)"
   ]
  },
  {
   "cell_type": "code",
   "execution_count": 71,
   "id": "1457b789",
   "metadata": {
    "scrolled": true
   },
   "outputs": [
    {
     "name": "stdout",
     "output_type": "stream",
     "text": [
      "<!DOCTYPE html>\r\n",
      "<html lang=\"en\" dir=\"ltr\"\n",
      "  xmlns:fb=\"http://ogp.me/ns/fb#\"\n",
      "  xmlns:og=\"http://ogp.me/ns#\" prefix=\"og: http://ogp.me/ns#\">\r\n",
      "<head profile=\"http://www.w3.org/1999/xhtml/vocab\">\r\n",
      "  <meta charset=\"utf-8\">\r\n",
      "  <meta name=\"viewport\" content=\"width=device-width, initial-scale=1.0, maximum-scale=5.0, minimum-scale=1.0\"> \r\n",
      "  <meta charset=\"utf-8\" />\n",
      "<link rel=\"shortcut icon\" href=\"https://perspectives.eiu.com/sites/all/themes/Bootsass/favicon.ico\" type=\"image/vnd.microsoft.icon\" />\n",
      "<meta name=\"description\" content=\"Covid-19 vaccines do not alter DNA. Nonetheless, the idea is widely shared on social media. It’s simply false and education is needed to battle the notion. But a frightening and misunderstood instance of rare, potentially fatal blood clots in a handful of cases is harder to combat. There have been links to clotting with certain vaccines and researchers are only beginning to\" />\n",
      "<meta name=\"robots\" content=\"follow, index\" />\n",
      "<meta name=\"generator\" content=\"Drupal 7 (http://drupal.org)\" />\n",
      "<link rel=\"image_src\" href=\"https://perspectives.eiu.com/sites/default/files/1920x450_perspectives_hero_49.jpg\" />\n",
      "<link rel=\"canonical\" href=\"https://perspectives.eiu.com/technology-innovation/fact-or-fiction-overcoming-health-misinformation\" />\n",
      "<link rel=\"shortlink\" href=\"https://perspectives.eiu.com/node/17720\" />\n",
      "<meta property=\"og:site_name\" content=\"Perspectives from The Economist Intelligence Unit (EIU)\" />\n",
      "<meta property=\"og:url\" content=\"https://perspectives.eiu.com/technology-innovation/fact-or-fiction-overcoming-health-misinformation\" />\n",
      "<meta property=\"og:type\" content=\"article\" />\n",
      "<meta property=\"og:title\" content=\"Fact or fiction: Overcoming health misinformation\" />\n",
      "<meta property=\"og:image:url\" content=\"https://perspectives.eiu.com/sites/default/files/1920x450_perspectives_hero_49.jpg\" />\n",
      "<meta property=\"og:image:secure_url\" content=\"https://perspectives.eiu.com/sites/default/files/1920x450_perspectives_hero_49.jpg\" />\n",
      "<meta property=\"og:image:type\" content=\"image/jpeg\" />\n",
      "<meta property=\"og:image:width\" content=\"870\" />\n",
      "<meta property=\"og:image:height\" content=\"480\" />\n",
      "<meta name=\"twitter:card\" content=\"summary_large_image\" />\n",
      "<meta name=\"twitter:url\" content=\"https://perspectives.eiu.com/technology-innovation/fact-or-fiction-overcoming-health-misinformation\" />\n",
      "<meta name=\"twitter:title\" content=\"Fact or fiction: Overcoming health misinformation\" />\n",
      "<meta name=\"twitter:description\" content=\"Fact or fiction: Overcoming health misinformation\" />\n",
      "<meta name=\"twitter:image\" content=\"https://perspectives.eiu.com/sites/default/files/1920x450_perspectives_hero_49.jpg\" />\n",
      "  <title>Fact or fiction: Overcoming health misinformation - The Economist Intelligence Unit (EIU)</title>\r\n",
      "  <!-- font starts-->\r\n",
      "  <link rel=\"preload\" href=\"https://perspectives.eiu.com/sites/all/libraries/fontawesome/fonts/fontawesome-webfont.woff2?v=4.6.3\" as=\"font\" type=\"font/woff2\" crossorigin=\"anonymous\"/>\r\n",
      "  <link rel=\"preload\" href=\"https://perspectives.eiu.com/sites/all/themes/Bootsass/fonts/EconSansRg/econsans-cd-reg.woff\" as=\"font\" type=\"font/woff\" crossorigin=\"anonymous\"/>\r\n",
      "  <link rel=\"preload\" href=\"https://perspectives.eiu.com/sites/all/themes/Bootsass/fonts/EconSansRg/econsans-cd-reg.ttf\" as=\"font\" type=\"font/ttf\" crossorigin=\"anonymous\"/>\r\n",
      "  <link rel=\"preload\" href=\"https://perspectives.eiu.com/sites/all/themes/Bootsass/fonts/EconSansOs/econsans-rg-os.woff\" as=\"font\" type=\"font/woff\" crossorigin=\"anonymous\"/>\r\n",
      "  <link rel=\"preload\" href=\"https://perspectives.eiu.com/sites/all/themes/Bootsass/fonts/Milo/milo-rg.woff\" as=\"font\" type=\"font/woff\" crossorigin=\"anonymous\"/>\r\n",
      "  <link rel=\"preload\" href=\"https://perspectives.eiu.com/sites/all/themes/Bootsass/fonts/Milo/milo-rg.ttf\" as=\"font\" type=\"font/ttf\" crossorigin=\"anonymous\"/>\r\n",
      "  <!-- font ends-->\r\n",
      "\r\n",
      "  <!-- <link rel=\"preload\" href=\"/sites/all/themes/Bootsass/js/scripts.js\" as=\"script\"> -->\r\n",
      "      <link rel=\"preload\" href=\"https://perspectives.eiu.com/sites/all/themes/Bootsass/css/style.css\" as=\"style\">\r\n",
      "    <link rel=\"stylesheet\" href=\"https://perspectives.eiu.com/sites/all/themes/Bootsass/css/style.css\">\r\n",
      "    \r\n",
      "  <script type=\"text/javascript\">\n",
      "    var _elqQ = _elqQ || [];\n",
      "    _elqQ.push(['elqSetSiteId', '2689']);\n",
      "    _elqQ.push(['elqTrackPageView']);\n",
      "\n",
      "    (function () {\n",
      "        function async_load() {\n",
      "            var s = document.createElement('script'); s.type = 'text/javascript'; s.async = true;\n",
      "            s.src = '//img.en25.com/i/elqCfg.min.js';\n",
      "            var x = document.getElementsByTagName('script')[0]; x.parentNode.insertBefore(s, x);\n",
      "        }\n",
      "        if (window.addEventListener) window.addEventListener('DOMContentLoaded', async_load, false);\n",
      "        else if (window.attachEvent) window.attachEvent('onload', async_load);\n",
      "    })();\n",
      "</script>\n",
      "  <!-- Facebook Pixel Code -->\r\n",
      "  <script type=\"text/javascript\">\n",
      "!function(f,b,e,v,n,t,s){if(f.fbq)return;n=f.fbq=function(){n.callMethod?\n",
      "n.callMethod.apply(n,arguments):n.queue.push(arguments)};if(!f._fbq)f._fbq=n;\n",
      "n.push=n;n.loaded=!0;n.version='2.0';n.queue=[];t=b.createElement(e);t.async=!0;\n",
      "t.src=v;s=b.getElementsByTagName(e)[0];s.parentNode.insertBefore(t,s)}(window,\n",
      "document,'script','https://connect.facebook.net/en_US/fbevents.js');\n",
      "fbq('init', '1954110804813070'); // Insert your pixel ID here.\n",
      "fbq('track', 'PageView');\n",
      "</script>\n",
      "<noscript>\n",
      "    <img height=\"1\" width=\"1\" style=\"display:none\" src=\"https://www.facebook.com/tr?id=1954110804813070&ev=PageView&noscript=1\"/>\n",
      "</noscript>\n",
      "\n",
      "<!-- View Content Event code -->\n",
      "<script type=\"text/javascript\">\n",
      "fbq('track', 'ViewContent');\n",
      "</script>\n",
      "\n",
      "<!-- Twitter Pixel Code -->\n",
      "<script> !function(e,t,n,s,u,a){e.twq||(s=e.twq=function(){s.exe?s.exe.apply(s,arguments):s.queue.push(arguments); },s.version='1.1',s.queue=[],u=t.createElement(n),u.async=!0,u.src='//static.ads-twitter.com/uwt.js', a=t.getElementsByTagName(n)[0],a.parentNode.insertBefore(u,a))}(window,document,'script'); // Insert Twitter Pixel ID and Standard Event data below  \n",
      "twq('init','nup21'); \n",
      "twq('track','PageView');\n",
      "</script>\n",
      "\n",
      "<!-- LinkedIn Pixel Code -->\n",
      "<!-- <script type=\"text/javascript\"> _linkedin_data_partner_id = \"10541\"; </script><script type=\"text/javascript\">\n",
      "(function(){var s = document.getElementsByTagName(\"script\")[0];\n",
      "var b = document.createElement(\"script\");\n",
      "b.type = \"text/javascript\";b.async = true;\n",
      "b.src = \"https://snap.licdn.com/li.lms-analytics/insight.min.js\";\n",
      "s.parentNode.insertBefore(b, s);})();\n",
      "</script> -->\n",
      "\n",
      "<script type=\"text/javascript\"> _linkedin_partner_id = \"268281\"; window._linkedin_data_partner_ids = window._linkedin_data_partner_ids || []; window._linkedin_data_partner_ids.push(_linkedin_partner_id); </script><script type=\"text/javascript\">\n",
      "(function(){var s = document.getElementsByTagName(\"script\")[0];\n",
      "var b = document.createElement(\"script\");\n",
      "b.type = \"text/javascript\";b.async = true;\n",
      "b.src = \"https://snap.licdn.com/li.lms-analytics/insight.min.js\";\n",
      "s.parentNode.insertBefore(b, s);})();\n",
      "</script>\n",
      "\n",
      "<!-- Start Page Specific Pixel Code -->\n",
      "\n",
      "<!-- End of Page Specific Pixel Code -->  <!-- lytics tag -->\n",
      "<script>\n",
      "  window.jstag = function () {\n",
      "    function t(t) {\n",
      "        return function () {\n",
      "            return t.apply(this, arguments), this\n",
      "        }\n",
      "    }\n",
      "\n",
      "    function n() {\n",
      "        var n = [\"ready\"].concat(c.call(arguments));\n",
      "        return t(function () {\n",
      "            n.push(c.call(arguments)), this._q.push(n)\n",
      "        })\n",
      "    }\n",
      "    var i = {\n",
      "            _q: [],\n",
      "            _c: {},\n",
      "            ts: (new Date).getTime(),\n",
      "            ver: \"2.0.0\"\n",
      "        },\n",
      "        c = Array.prototype.slice;\n",
      "    return i.init = function (t) {\n",
      "        return i._c = t, t.synchronous || i.loadtagmgr(t), this\n",
      "    }, i.loadtagmgr = function (t) {\n",
      "        var n = document.createElement(\"script\");\n",
      "        n.type = \"text/javascript\", n.async = !0, n.src = t.url + \"/api/tag/\" + t.cid + \"/lio.js\";\n",
      "        var i = document.getElementsByTagName(\"script\")[0];\n",
      "        i.parentNode.insertBefore(n, i)\n",
      "    }, i.ready = n(), i.send = n(\"send\"), i.mock = n(\"mock\"), i.identify = n(\"identify\"), i.pageView = n(\"pageView\"), i.bind = t(function (t) {\n",
      "        i._q.push([t, c.call(arguments, 1)])\n",
      "    }), i.block = t(function () {\n",
      "        i._c.blockload = !0\n",
      "    }), i.unblock = t(function () {\n",
      "        i._c.blockload = !1\n",
      "    }), i\n",
      "}(), window.jstag.init({\n",
      "    cid: \"888902b751a3ee8c4b60bb6b75283052\",\n",
      "    url: \"//c.lytics.io\",\n",
      "    min: true,\n",
      "    loadid: false\n",
      "});\n",
      "</script>\n",
      "<!-- lytics tag -->  <!-- Google Tag Manager -->\n",
      "<script>(function(w,d,s,l,i){w[l]=w[l]||[];w[l].push({'gtm.start':\n",
      "new Date().getTime(),event:'gtm.js'});var f=d.getElementsByTagName(s)[0],\n",
      "j=d.createElement(s),dl=l!='dataLayer'?'&l='+l:'';j.async=true;j.src=\n",
      "'https://www.googletagmanager.com/gtm.js?id='+i+dl;f.parentNode.insertBefore(j,f);\n",
      "})(window,document,'script','dataLayer','GTM-PM9DR8B');</script>\n",
      "<!-- End Google Tag Manager -->\n",
      "\n",
      "<!-- GA Test Matrics --> \n",
      "<script async src=\"https://www.googletagmanager.com/gtag/js?id=UA-109864370-3\"></script>\n",
      "<script> window.dataLayer = window.dataLayer || []; function gtag(){dataLayer.push(arguments);} gtag('js', new Date()); gtag('config', 'UA-109864370-3'); </script>\n",
      "<!-- End GA Test Matrics --> \n",
      "\n",
      "<!-- GA Prod Matrics --> \n",
      "<!-- <script async src=\"https://www.googletagmanager.com/gtag/js?id=UA-67700211-1\"></script>\n",
      "<script> window.dataLayer = window.dataLayer || []; function gtag(){dataLayer.push(arguments);} gtag('js', new Date()); gtag('config', 'UA-67700211-1'); </script> -->\n",
      "<!-- End GA Prod Matrics --> \n",
      "  \r\n",
      "  <style>\r\n",
      "        /* Paste this css to your style sheet file or under head tag */\r\n",
      "\t\t/* This only works with JavaScript, \r\n",
      "\t\tif it's not present, don't show loader */\r\n",
      "\t\t.no-js #loader { display: none;  }\r\n",
      "\t\t.js #loader { display: block; position: absolute; left: 100px; top: 0; }\r\n",
      "\t\t.se-pre-cons {\r\n",
      "\t\t  position: fixed;\r\n",
      "\t\t  left: 0px;\r\n",
      "\t\t  top: 0px;\r\n",
      "\t\t  width: 100%;\r\n",
      "\t\t  height: 100%;\r\n",
      "\t\t  z-index: 9999;\r\n",
      "\t\t  /* background: url(https://smallenvelop.com/wp-content/uploads/2014/08/Preloader_11.gif) center\n"
     ]
    }
   ],
   "source": [
    "print(contents[:10000])"
   ]
  },
  {
   "cell_type": "code",
   "execution_count": 72,
   "id": "a48a31e9",
   "metadata": {},
   "outputs": [
    {
     "name": "stdout",
     "output_type": "stream",
     "text": [
      "(x|m)?|dot(x|m)?|exe|flv|gif|gz|gzip|hqx|jar|jpe?g|js|mp(2|3|4|e?g)|mov(ie)?|msi|msp|pdf|phps|png|ppt(x|m)?|pot(x|m)?|pps(x|m)?|ppam|sld(x|m)?|thmx|qtm?|ra(m|r)?|sea|sit|tar|tgz|torrent|txt|wav|wma|wmv|wpd|xls(x|m|b)?|xlt(x|m)|xlam|xml|z|zip\",\"trackDomainMode\":2,\"trackCrossDomains\":[\"eiuperspectives.economist.com\",\"perspectives.eiu.com\"]},\"urlIsAjaxTrusted\":{\"\\/technology-innovation\\/fact-or-fiction-overcoming-health-misinformation\":true},\"bootstrap\":{\"anchorsFix\":\"0\",\"anchorsSmoothScrolling\":\"0\",\"formHasError\":1,\"popoverEnabled\":1,\"popoverOptions\":{\"animation\":1,\"html\":0,\"placement\":\"right\",\"selector\":\"\",\"trigger\":\"click\",\"triggerAutoclose\":1,\"title\":\"\",\"content\":\"\",\"delay\":0,\"container\":\"body\"},\"tooltipEnabled\":1,\"tooltipOptions\":{\"animation\":1,\"html\":0,\"placement\":\"auto left\",\"selector\":\"\",\"trigger\":\"hover focus\",\"delay\":0,\"container\":\"body\"}}});</script>\n",
      "  <script>\r\n",
      "    (function () {\r\n",
      "        var gdprAppliesGlobally = false;\r\n",
      "\r\n",
      "        // based on the IAB spec this frame is requir\n"
     ]
    }
   ],
   "source": [
    "print(contents[15000:16000])"
   ]
  },
  {
   "cell_type": "markdown",
   "id": "1e5f14b4",
   "metadata": {},
   "source": [
    "**Exercise 6: Use BeautifulSoup package to parse the raw HTML text more meaningfully and search for a particular text**"
   ]
  },
  {
   "cell_type": "code",
   "execution_count": 73,
   "id": "58f4c0e2",
   "metadata": {},
   "outputs": [],
   "source": [
    "from bs4 import BeautifulSoup"
   ]
  },
  {
   "cell_type": "code",
   "execution_count": 74,
   "id": "27223029",
   "metadata": {},
   "outputs": [],
   "source": [
    "soup = BeautifulSoup(contents, 'html.parser')"
   ]
  },
  {
   "cell_type": "markdown",
   "id": "94d081e2",
   "metadata": {},
   "source": [
    "**What is this new soup object?**"
   ]
  },
  {
   "cell_type": "code",
   "execution_count": 75,
   "id": "bb9d3491",
   "metadata": {},
   "outputs": [
    {
     "data": {
      "text/plain": [
       "bs4.BeautifulSoup"
      ]
     },
     "execution_count": 75,
     "metadata": {},
     "output_type": "execute_result"
    }
   ],
   "source": [
    "type(soup)"
   ]
  },
  {
   "cell_type": "markdown",
   "id": "ec5e43f5",
   "metadata": {},
   "source": [
    "**Exercise 7: Can we somehow read intelligible text from this soup object**"
   ]
  },
  {
   "cell_type": "code",
   "execution_count": 76,
   "id": "bfe2c983",
   "metadata": {},
   "outputs": [],
   "source": [
    "txt_dump=soup.text"
   ]
  },
  {
   "cell_type": "code",
   "execution_count": 77,
   "id": "bdddff13",
   "metadata": {},
   "outputs": [
    {
     "data": {
      "text/plain": [
       "str"
      ]
     },
     "execution_count": 77,
     "metadata": {},
     "output_type": "execute_result"
    }
   ],
   "source": [
    "type(txt_dump)"
   ]
  },
  {
   "cell_type": "code",
   "execution_count": 78,
   "id": "aaf9219a",
   "metadata": {},
   "outputs": [
    {
     "data": {
      "text/plain": [
       "37949"
      ]
     },
     "execution_count": 78,
     "metadata": {},
     "output_type": "execute_result"
    }
   ],
   "source": [
    "len(txt_dump)"
   ]
  },
  {
   "cell_type": "code",
   "execution_count": 79,
   "id": "e92f5161",
   "metadata": {},
   "outputs": [
    {
     "name": "stdout",
     "output_type": "stream",
     "text": [
      "Pardeshi, municipal commissioner, Brihanmumbai Municipal Corporation (Mumbai) • Brian Roberts, policy analyst, city of San Francisco\n",
      "Sameer Sharma, global general manager, Internet of Things (IoT), Intel • Marius Sylvestersen, programme director, Copenhagen Solutions Lab\n",
      "Tan Kok Yam, deputy secretary of the Smart Nation and Digital Government, Prime Minister’s Office, Singapore\n",
      "The report was written by Denis McCauley and edited by Michael Gold.\n",
      "\n",
      " Read more  \n",
      "\n",
      " \n",
      "\n",
      " \n",
      "\n",
      "    Technology & Innovation  \n",
      "Talent for innovation\n",
      "\n",
      " \n",
      "\n",
      "Talent for innovation: Getting noticed in a global market incorporates case studies of the 34 companies selected as Technology Pioneers in biotechnology/health, energy/environmental technology, and information technology.\n",
      "Leonardo Da Vinci unquestionably had it in the 15th century; so did Thomas Edison in the 19th century. But today, \"talent for innovation\" means something rather different. Innovation is no longer the work of one individual toiling in a workshop. In today's globalised, interconnected world, innovation is the work of teams, often based in particular innovation hotspots, and often collaborating with partners, suppliers and customers both nearby and in other countries.\n",
      "Innovation has become a global activity as it has become easier for ideas and talented people to move from one country to another. This has both quickened the pace of technological development and presented many new opportunities, as creative individuals have become increasingly p\n"
     ]
    }
   ],
   "source": [
    "print(txt_dump[7000:8500])"
   ]
  },
  {
   "cell_type": "markdown",
   "id": "c27c2fc8",
   "metadata": {},
   "source": [
    "**Exercise 8: Extract the text from the section 'From today's featured article'**"
   ]
  },
  {
   "cell_type": "code",
   "execution_count": 80,
   "id": "06270738",
   "metadata": {},
   "outputs": [],
   "source": [
    "# First extract the starting and end indices of the text we are interested in\n",
    "idx1=txt_dump.find(\"Fact or fiction: Overcoming health misinformation\")\n",
    "idx2=txt_dump.find(\"instantaneously\")"
   ]
  },
  {
   "cell_type": "code",
   "execution_count": 81,
   "id": "b917994b",
   "metadata": {},
   "outputs": [
    {
     "data": {
      "text/plain": [
       "(27, 4502)"
      ]
     },
     "execution_count": 81,
     "metadata": {},
     "output_type": "execute_result"
    }
   ],
   "source": [
    "idx1, idx2"
   ]
  },
  {
   "cell_type": "code",
   "execution_count": 83,
   "id": "570d647b",
   "metadata": {},
   "outputs": [
    {
     "name": "stdout",
     "output_type": "stream",
     "text": [
      "ealth misinformation - The Economist Intelligence Unit (EIU)\n",
      "\n",
      "\n",
      "\n",
      "\n",
      "\n",
      "\n",
      "\n",
      "\n",
      "\n",
      "\n",
      "\n",
      "\n",
      "\n",
      "\n",
      "\n",
      "\n",
      "\n",
      "\n",
      "\n",
      "\n",
      "\n",
      "\n",
      "\n",
      "\n",
      "\n",
      " \n",
      "\n",
      " \n",
      "\n",
      "\n",
      "\n",
      "\n",
      "\n",
      "\n",
      "\n",
      "\n",
      "\n",
      "\n",
      "\n",
      "\n",
      "\n",
      "\n",
      "\n",
      "\n",
      "\n",
      "\n",
      "\n",
      "\n",
      "\n",
      "\n",
      "\n",
      "\n",
      "\n",
      "\n",
      "\n",
      "\n",
      "\n",
      "\n",
      "\n",
      "\n",
      "Skip to main content\n",
      "\n",
      "\n",
      "\n",
      "\n",
      "\n",
      "- Click here or hit enter to search -\n",
      "\n",
      "\n",
      " \n",
      "\n",
      "Home\n",
      "\n",
      "\n",
      "Latest Updates\n",
      "\n",
      "\n",
      "Popular\n",
      "\n",
      "\n",
      "EIU Perspectives Series\n",
      "\n",
      "\n",
      "Sections\n",
      "\n",
      "\n",
      "Technology & Innovation \n",
      "\n",
      "Talent & Education \n",
      "\n",
      "Sustainability \n",
      "\n",
      "Financial Services \n",
      "\n",
      "Energy \n",
      "\n",
      "Healthcare \n",
      "\n",
      "Infrastructure & Cities \n",
      "\n",
      "Strategy & Leadership \n",
      "\n",
      "Marketing \n",
      "\n",
      "Economic Development \n",
      "\n",
      "\n",
      "\n",
      "\n",
      "Trending Topics\n",
      "\n",
      "Automation\n",
      "Data & Analytics\n",
      "Digital Transformation\n",
      "Cyber Security\n",
      "Artifical Intelligence\n",
      "Blockchain\n",
      "Cancer\n",
      "Trade\n",
      "Transportation\n",
      "All Topics\n",
      "\n",
      "\n",
      "\n",
      "\n",
      "Regions\n",
      "\n",
      "Global\n",
      "Africa\n",
      "Asia\n",
      "Australasia\n",
      "Europe\n",
      "Latin America\n",
      "Middle East\n",
      "North America\n",
      "\n",
      "\n",
      "\n",
      "\n",
      "Content Types\n",
      "\n",
      "Articles\n",
      "Whitepapers\n",
      "Infographics\n",
      "Videos\n",
      "Blogs\n",
      "Case Study\n",
      "Podcast\n",
      "\n",
      "\n",
      "\n",
      "\n",
      "Our Editors\n",
      "Our Contributors\n",
      "Economist Events\n",
      "\n",
      "\n",
      "\n",
      "\n",
      "General Menu\n",
      "About Us\n",
      "Contact Us\n",
      "Media Centre\n",
      "\n",
      "\n",
      "\n",
      "\n",
      "Follow Us\n",
      "Twitter\n",
      "Facebook\n",
      "LinkedIn\n",
      "\n",
      "\n",
      "\n",
      "\n",
      "\n",
      "\n",
      "\n",
      "\n",
      "\n",
      "\n",
      "\n",
      "Toggle navigation\n",
      "\n",
      "\n",
      "\n",
      "\n",
      "\n",
      "\n",
      "Sign up for Weekly Digest\n",
      "\n",
      "\n",
      "\n",
      "\n",
      "\n",
      "\n",
      "Menu\n",
      "\n",
      "\n",
      "\n",
      "Close\n",
      "\n",
      "- Click here or hit enter to search -\n",
      "\n",
      "\n",
      " \n",
      " \n",
      "\n",
      "\n",
      "\n",
      "\n",
      "Technology & Innovation\n",
      "\n",
      "Financial services\n",
      "\n",
      "Healthcare\n",
      "\n",
      "Strategy and Leadership\n",
      "\n",
      "Sustainability\n",
      "\n",
      "All Sections +\n",
      "\n",
      "\n",
      "\n",
      "\n",
      "\n",
      "\n",
      "EIU Digital Economy podcast\n",
      "Home\n",
      " \n",
      "\n",
      "\n",
      "\n",
      "\n",
      "\n",
      "\n",
      "\n",
      "\n",
      "\n",
      "\n",
      "\n",
      "\n",
      "\n",
      "\n",
      "\n",
      "\n",
      "\n",
      "\n",
      "\n",
      "Fact or fiction: Overcoming health misinformation\n",
      "Download Article\n",
      "\n",
      "\n",
      "\n",
      "\n",
      "\n",
      "Sign up for Weekly Digest\n",
      "\n",
      "\n",
      "\n",
      "\n",
      "\n",
      "\n",
      "\n",
      "\n",
      "Technology & Innovation\n",
      "Fact or fiction: Overcoming health misinformation\n",
      "\n",
      "\n",
      "\n",
      "\n",
      "June 29, 2021\n",
      "\n",
      "\n",
      "  Asia\n",
      "\n",
      "\n",
      "\n",
      " \n",
      "\n",
      "\n",
      "  Jason \n",
      "  Wincuinas \n",
      "\n",
      "\n",
      "\n",
      "Social Share:\n",
      "\n",
      "\n",
      "LinkedIn\n",
      "\n",
      "\n",
      "\n",
      "Twitter\n",
      "\n",
      "\n",
      "\n",
      "Facebook\n",
      "\n",
      "\n",
      "\n",
      "Email\r\n",
      "      \n",
      "\n",
      "\n",
      " \n",
      "\n",
      "\n",
      "\n",
      "\n",
      "\n",
      "\n",
      "\n",
      "\n",
      " \n",
      "\n",
      "\n",
      "\n",
      "\n",
      "\n",
      "\n",
      "\n",
      "\n",
      "June 29, 2021\n",
      "\n",
      "\n",
      "  Asia\n",
      "\n",
      "\n",
      "\n",
      " \n",
      "\n",
      "\n",
      "  Jason \n",
      "  Wincuinas \n",
      "\n",
      "\n",
      "\n",
      "Social Share:\n",
      "\n",
      "\n",
      "LinkedIn\n",
      "\n",
      "\n",
      "\n",
      "Twitter\n",
      "\n",
      "\n",
      "\n",
      "Facebook\n",
      "\n",
      "\n",
      "\n",
      "Email\r\n",
      "      \n",
      "\n",
      "\n",
      " \n",
      "\n",
      "\n",
      "\n",
      "\n",
      "    Supported By  \n",
      "\n",
      "\n",
      "\n",
      "\n",
      "\n",
      "\n",
      "\n",
      "\n",
      "\n",
      "\n",
      "\n",
      "\n",
      "\n",
      "\n",
      "\n",
      "\n",
      "\n",
      "    Supported By  \n",
      "\n",
      "\n",
      "\n",
      "\n",
      "\n",
      "\n",
      "\n",
      "\n",
      "\n",
      "\n",
      "\n",
      "\n",
      "\n",
      "\n",
      "\n",
      "\n",
      "\n",
      "  Jason \n",
      "  Wincuinas \n",
      "\n",
      "Editor, The Economist Intelligence Unit\n",
      "\n",
      "\n",
      "Based in Hong Kong, Jason is a senior editor of thought leadership research for Asia. He covers the region from Australia to India but has a background of business in China and Hong Kong. \n",
      "A Boston native, Jason has worked and travelled in Asia since the 1990s, settling permanently in Hong Kong since 2009. Before joining the Economist Group he was managing editor for Campaign Asia, covering all aspects of the marketing industry—from the implementation of technology to ad creative, to consumer research.\n",
      "Prior to that, Jason's professional focus was in finance and technology, working in both investment and engineering firms. He also spent a decade of his career heading a manufacturing and import company, bringing goods from China’s factories to the US retail market. Some of his most formative work has been as a freelance writer and stay-at-home dad.   \n",
      "Jason received a BA in English from the University of Massachusetts, Amherst with study at the University of Sheffield in Yorkshire, UK. \n",
      "\n",
      "\n",
      "\n",
      "Read more from \n",
      "  Jason \n",
      "  Wincuinas \n",
      "\n",
      "\n",
      "\n",
      "\n",
      "\n",
      "\n",
      "    Fact or fiction: Overcoming health misinformation  \n",
      "\n",
      "Covid-19 vaccines do not alter DNA. Nonetheless, the idea is widely shared on social media. It’s simply false and education is needed to battle the notion.\n",
      "But a frightening and misunderstood instance of rare, potentially fatal blood clots in a handful of cases is harder to combat. There have been links to clotting with certain vaccines and researchers are only beginning to understand why but peer reviews are still pending. Meanwhile, misinformation is still spreading. The public doesn’t wait for answers; they take inaction now.\n",
      "Even before various covid-19 vaccine injections began, anti-vaxx sentiment—which has existed as long as vaccines—went on an upswing. Propagation of the myriad half-truths and outright lies have hampered vaccination efforts globally.\n",
      "For all the attention they receive, adamant anti-vaxxers may not be the biggest roadblock to controlling the virus. The vaccine-hesitant form a far larger global population. And while they may not question the motives of pharmaceutical companies, doctors or policymakers, they are exposed to enough mis- and disinformation about the efficacy and side effects of vaccines, as well as covid-19’s severity, that many decide against vaccination.1\n",
      "People acting or not acting on health-related matters based on bad information is nothing new. And hostility or indifference to modern medicine is ancient. What is new is the sheer volume of mis- and disinformation and the variety of mediums through which it is disseminated and consumed widely and almost i\n"
     ]
    }
   ],
   "source": [
    "print(txt_dump[idx1+len(\"From today's featured article\"):idx2+1])\n"
   ]
  },
  {
   "cell_type": "code",
   "execution_count": null,
   "id": "16836f45",
   "metadata": {},
   "outputs": [],
   "source": []
  }
 ],
 "metadata": {
  "kernelspec": {
   "display_name": "Python 3",
   "language": "python",
   "name": "python3"
  },
  "language_info": {
   "codemirror_mode": {
    "name": "ipython",
    "version": 3
   },
   "file_extension": ".py",
   "mimetype": "text/x-python",
   "name": "python",
   "nbconvert_exporter": "python",
   "pygments_lexer": "ipython3",
   "version": "3.8.8"
  },
  "toc": {
   "base_numbering": 1,
   "nav_menu": {},
   "number_sections": true,
   "sideBar": true,
   "skip_h1_title": false,
   "title_cell": "Table of Contents",
   "title_sidebar": "Contents",
   "toc_cell": false,
   "toc_position": {},
   "toc_section_display": true,
   "toc_window_display": false
  }
 },
 "nbformat": 4,
 "nbformat_minor": 5
}
