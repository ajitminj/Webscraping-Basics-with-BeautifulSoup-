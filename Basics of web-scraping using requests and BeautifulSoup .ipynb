{
 "cells": [
  {
   "cell_type": "code",
   "execution_count": 2,
   "id": "1239468e",
   "metadata": {},
   "outputs": [],
   "source": [
    "# Import requests library\n",
    "import requests"
   ]
  },
  {
   "cell_type": "markdown",
   "id": "afc37ab8",
   "metadata": {},
   "source": [
    "<span style='color:steelblue'> **1: Use requests to get a response from the Wikipedia home page** </span>"
   ]
  },
  {
   "cell_type": "code",
   "execution_count": 3,
   "id": "36795c73",
   "metadata": {},
   "outputs": [],
   "source": [
    "# First assign the URL of Wikipedia home page to a string \n",
    "wiki_home = \"https://en.wikipedia.org/wiki/Main_Page\""
   ]
  },
  {
   "cell_type": "code",
   "execution_count": 4,
   "id": "d1fc52fd",
   "metadata": {},
   "outputs": [],
   "source": [
    "# Use the 'get' method from requests library to get a response\n",
    "response = requests.get(wiki_home)"
   ]
  },
  {
   "cell_type": "code",
   "execution_count": 5,
   "id": "30719b22",
   "metadata": {},
   "outputs": [
    {
     "data": {
      "text/plain": [
       "requests.models.Response"
      ]
     },
     "execution_count": 5,
     "metadata": {},
     "output_type": "execute_result"
    }
   ],
   "source": [
    "# What is this 'response' object anyway\n",
    "type(response)"
   ]
  },
  {
   "cell_type": "markdown",
   "id": "eee66f5b",
   "metadata": {},
   "source": [
    "<span style='color:steelblue'> **2: Write a small function to check the status of web request**\n",
    "\n",
    "***This kind of small helper/utility functions are incredibly useful for complex projects.***\n",
    "\n",
    "***Start building a habit of writing small functions to accomplish small modular tasks, instead of writing long scripts, which are hard to debug and track.*** </span>"
   ]
  },
  {
   "cell_type": "code",
   "execution_count": 6,
   "id": "fe2d24fe",
   "metadata": {},
   "outputs": [],
   "source": [
    "def status_check(r):\n",
    "    if r.status_code==200:\n",
    "        print(\"Success!\")\n",
    "        return 1\n",
    "    else:\n",
    "        print(\"Failed!\")\n",
    "        return -1"
   ]
  },
  {
   "cell_type": "code",
   "execution_count": 7,
   "id": "c4bb70bc",
   "metadata": {},
   "outputs": [
    {
     "name": "stdout",
     "output_type": "stream",
     "text": [
      "Success!\n"
     ]
    },
    {
     "data": {
      "text/plain": [
       "1"
      ]
     },
     "execution_count": 7,
     "metadata": {},
     "output_type": "execute_result"
    }
   ],
   "source": [
    "status_check(response)"
   ]
  },
  {
   "cell_type": "markdown",
   "id": "4d522f43",
   "metadata": {},
   "source": [
    "<span style='color:steelblue'> **3: Write small function to check the encoding of the web page** </span>"
   ]
  },
  {
   "cell_type": "code",
   "execution_count": 8,
   "id": "161eed5c",
   "metadata": {},
   "outputs": [],
   "source": [
    "def encoding_check(r):\n",
    "    return (r.encoding)"
   ]
  },
  {
   "cell_type": "code",
   "execution_count": 9,
   "id": "70abebd1",
   "metadata": {},
   "outputs": [
    {
     "data": {
      "text/plain": [
       "'UTF-8'"
      ]
     },
     "execution_count": 9,
     "metadata": {},
     "output_type": "execute_result"
    }
   ],
   "source": [
    "encoding_check(response)"
   ]
  },
  {
   "cell_type": "markdown",
   "id": "a91da455",
   "metadata": {},
   "source": [
    "<span style='color:steelblue'> **4: Write a small function to decode the concents of the response** </span>"
   ]
  },
  {
   "cell_type": "code",
   "execution_count": 10,
   "id": "34345c99",
   "metadata": {},
   "outputs": [],
   "source": [
    "def decode_content(r,encoding):\n",
    "    return (r.content.decode(encoding))"
   ]
  },
  {
   "cell_type": "code",
   "execution_count": 11,
   "id": "2a499631",
   "metadata": {},
   "outputs": [],
   "source": [
    "contents = decode_content(response,encoding_check(response))"
   ]
  },
  {
   "cell_type": "markdown",
   "id": "3078dc4c",
   "metadata": {},
   "source": [
    "<span style='color:steelblue'> **What is the type of the contents?** </span>"
   ]
  },
  {
   "cell_type": "code",
   "execution_count": 12,
   "id": "ea89f297",
   "metadata": {},
   "outputs": [
    {
     "data": {
      "text/plain": [
       "str"
      ]
     },
     "execution_count": 12,
     "metadata": {},
     "output_type": "execute_result"
    }
   ],
   "source": [
    "type(contents)"
   ]
  },
  {
   "cell_type": "markdown",
   "id": "af86b3fe",
   "metadata": {},
   "source": [
    "***Wow! Finally we got a string object. Super easy to read text from a popular webpage like Wikipedia***\n",
    "\n",
    "<span style='color:steelblue'> **5: Check the length of the text you got back and print some selected portions** </span>"
   ]
  },
  {
   "cell_type": "code",
   "execution_count": 13,
   "id": "1389de03",
   "metadata": {},
   "outputs": [
    {
     "data": {
      "text/plain": [
       "84315"
      ]
     },
     "execution_count": 13,
     "metadata": {},
     "output_type": "execute_result"
    }
   ],
   "source": [
    "len(contents)"
   ]
  },
  {
   "cell_type": "code",
   "execution_count": 14,
   "id": "1457b789",
   "metadata": {
    "scrolled": true
   },
   "outputs": [
    {
     "name": "stdout",
     "output_type": "stream",
     "text": [
      "<!DOCTYPE html>\n",
      "<html class=\"client-nojs\" lang=\"en\" dir=\"ltr\">\n",
      "<head>\n",
      "<meta charset=\"UTF-8\"/>\n",
      "<title>Wikipedia, the free encyclopedia</title>\n",
      "<script>document.documentElement.className=\"client-js\";RLCONF={\"wgBreakFrames\":!1,\"wgSeparatorTransformTable\":[\"\",\"\"],\"wgDigitTransformTable\":[\"\",\"\"],\"wgDefaultDateFormat\":\"dmy\",\"wgMonthNames\":[\"\",\"January\",\"February\",\"March\",\"April\",\"May\",\"June\",\"July\",\"August\",\"September\",\"October\",\"November\",\"December\"],\"wgRequestId\":\"9d454b50-4184-46be-b3af-c9733eca4a8d\",\"wgCSPNonce\":!1,\"wgCanonicalNamespace\":\"\",\"wgCanonicalSpecialPageName\":!1,\"wgNamespaceNumber\":0,\"wgPageName\":\"Main_Page\",\"wgTitle\":\"Main Page\",\"wgCurRevisionId\":1004593520,\"wgRevisionId\":1004593520,\"wgArticleId\":15580374,\"wgIsArticle\":!0,\"wgIsRedirect\":!1,\"wgAction\":\"view\",\"wgUserName\":null,\"wgUserGroups\":[\"*\"],\"wgCategories\":[],\"wgPageContentLanguage\":\"en\",\"wgPageContentModel\":\"wikitext\",\"wgRelevantPageName\":\"Main_Page\",\"wgRelevantArticleId\":15580374,\"wgIsProbablyEditable\":!1,\"wgRelevantPage\n"
     ]
    }
   ],
   "source": [
    "print(contents[:1000])"
   ]
  },
  {
   "cell_type": "code",
   "execution_count": 15,
   "id": "a48a31e9",
   "metadata": {},
   "outputs": [
    {
     "name": "stdout",
     "output_type": "stream",
     "text": [
      " in 2017. (<b><a href=\"/wiki/South_Park:_The_Stick_of_Truth\" title=\"South Park: The Stick of Truth\">Full&#160;article...</a></b>)\n",
      "</p>\n",
      "<div class=\"tfa-recent\" style=\"text-align: right;\">\n",
      "Recently featured: <div class=\"hlist hlist-separated inline\">\n",
      "<ul><li><a href=\"/wiki/York_County,_Maine,_Tercentenary_half_dollar\" title=\"York County, Maine, Tercentenary half dollar\">York County, Maine, Tercentenary half dollar</a></li>\n",
      "<li><a href=\"/wiki/Cai_Lun\" title=\"Cai Lun\">Cai Lun</a></li>\n",
      "<li><a href=\"/wiki/Moorgate_tube_crash\" title=\"Moorgate tube crash\">Moorgate tube crash</a></li></ul>\n",
      "</div></div>\n",
      "<div class=\"tfa-footer hlist hlist-separated noprint\" style=\"text-align: right;\">\n",
      "<ul><li><b><a href=\"/wiki/Wikipedia:Today%27s_featured_article/August_2021\" title=\"Wikipedia:Today&#39;s featured article/August 2021\">Archive</a></b></li>\n",
      "<li><b><a href=\"https://lists.wikimedia.org/mailman/listinfo/daily-article-l\" class=\"extiw\" title=\"mail:daily-article-l\">By email</a></b></li>\n",
      "<li><b><a href=\"/w\n"
     ]
    }
   ],
   "source": [
    "print(contents[15000:16000])"
   ]
  },
  {
   "cell_type": "markdown",
   "id": "1e5f14b4",
   "metadata": {},
   "source": [
    "<span style='color:steelblue'> **6: Use BeautifulSoup package to parse the raw HTML text more meaningfully and search for a particular text** </span>"
   ]
  },
  {
   "cell_type": "code",
   "execution_count": 16,
   "id": "58f4c0e2",
   "metadata": {},
   "outputs": [],
   "source": [
    "from bs4 import BeautifulSoup"
   ]
  },
  {
   "cell_type": "code",
   "execution_count": 17,
   "id": "27223029",
   "metadata": {},
   "outputs": [],
   "source": [
    "soup = BeautifulSoup(contents, 'html.parser')"
   ]
  },
  {
   "cell_type": "markdown",
   "id": "94d081e2",
   "metadata": {},
   "source": [
    "**What is this new soup object?**"
   ]
  },
  {
   "cell_type": "code",
   "execution_count": 18,
   "id": "bb9d3491",
   "metadata": {},
   "outputs": [
    {
     "data": {
      "text/plain": [
       "bs4.BeautifulSoup"
      ]
     },
     "execution_count": 18,
     "metadata": {},
     "output_type": "execute_result"
    }
   ],
   "source": [
    "type(soup)"
   ]
  },
  {
   "cell_type": "markdown",
   "id": "ec5e43f5",
   "metadata": {},
   "source": [
    "<span style='color:steelblue'> **7: Can we somehow read intelligible text from this soup object** </span>"
   ]
  },
  {
   "cell_type": "code",
   "execution_count": 19,
   "id": "bfe2c983",
   "metadata": {},
   "outputs": [],
   "source": [
    "txt_dump=soup.text"
   ]
  },
  {
   "cell_type": "code",
   "execution_count": 20,
   "id": "bdddff13",
   "metadata": {},
   "outputs": [
    {
     "data": {
      "text/plain": [
       "str"
      ]
     },
     "execution_count": 20,
     "metadata": {},
     "output_type": "execute_result"
    }
   ],
   "source": [
    "type(txt_dump)"
   ]
  },
  {
   "cell_type": "code",
   "execution_count": 21,
   "id": "aaf9219a",
   "metadata": {},
   "outputs": [
    {
     "data": {
      "text/plain": [
       "9752"
      ]
     },
     "execution_count": 21,
     "metadata": {},
     "output_type": "execute_result"
    }
   ],
   "source": [
    "len(txt_dump)"
   ]
  },
  {
   "cell_type": "code",
   "execution_count": 22,
   "id": "e92f5161",
   "metadata": {},
   "outputs": [
    {
     "name": "stdout",
     "output_type": "stream",
     "text": [
      "epository\n",
      "\n",
      "\n",
      "\n",
      "MediaWikiWiki software development\n",
      "\n",
      "\n",
      "\n",
      "Meta-WikiWikimedia project coordination\n",
      "\n",
      "\n",
      "\n",
      "WikibooksFree textbooks and manuals\n",
      "\n",
      "\n",
      "\n",
      "WikidataFree knowledge base\n",
      "\n",
      "\n",
      "\n",
      "WikinewsFree-content news\n",
      "\n",
      "\n",
      "\n",
      "WikiquoteCollection of quotations\n",
      "\n",
      "\n",
      "\n",
      "WikisourceFree-content library\n",
      "\n",
      "\n",
      "\n",
      "WikispeciesDirectory of species\n",
      "\n",
      "\n",
      "\n",
      "WikiversityFree learning tools\n",
      "\n",
      "\n",
      "\n",
      "WikivoyageFree travel guide\n",
      "\n",
      "\n",
      "\n",
      "WiktionaryDictionary and thesaurus\n",
      "\n",
      "\n",
      "\n",
      "Wikipedia languages\n",
      "\n",
      "\n",
      "This Wikipedia is written in English. Many other Wikipedias are available; some of the largest are listed below.\n",
      "\n",
      "\n",
      "\n",
      "\n",
      "\n",
      "1,000,000+ articles\n",
      "\n",
      "\n",
      "\n",
      "العربية\n",
      "Deutsch\n",
      "Español\n",
      "Français\n",
      "Italiano\n",
      "Nederlands\n",
      "日本語\n",
      "Polski\n",
      "Português\n",
      "Русский\n",
      "Svenska\n",
      "Українська\n",
      "Tiếng Việt\n",
      "中文\n",
      "\n",
      "\n",
      "\n",
      "\n",
      "\n",
      "250,000+ articles\n",
      "\n",
      "\n",
      "\n",
      "Bahasa Indonesia\n",
      "Bahasa Melayu\n",
      "Bân-lâm-gú\n",
      "Български\n",
      "Català\n",
      "Čeština\n",
      "Dansk\n",
      "Esperanto\n",
      "Euskara\n",
      "فارسی‎\n",
      "עברית\n",
      "한국어\n",
      "Magyar\n",
      "Norsk Bokmål\n",
      "Română\n",
      "Srpski\n",
      "Srpskohrvatski\n",
      "Suomi\n",
      "Türkçe\n",
      "\n",
      "\n",
      "\n",
      "\n",
      "\n",
      "50,000+ articles\n",
      "\n",
      "\n",
      "\n",
      "Asturianu\n",
      "Bosanski\n",
      "Eesti\n",
      "Ελληνικά\n",
      "Simple English\n",
      "Galego\n",
      "Hrvatski\n",
      "Latviešu\n",
      "Lietuvių\n",
      "മലയാളം\n",
      "Македонски\n",
      "Norsk nynorsk\n",
      "Slovenčina\n",
      "Slovenščina\n",
      "ไทย\n",
      "\n",
      "\n",
      "\n",
      "\n",
      "\n",
      "\n",
      "\n",
      "\n",
      "\n",
      "Retrieved from \"https://en.wikipedia.org/w/index.php?title=Main_Page&oldid=1004593520\"\n",
      "\n",
      "\n",
      "\n",
      "\n",
      "\n",
      "\n",
      "\n",
      "Navigation menu\n",
      "\n",
      "\n",
      "Personal tools\n",
      "\n",
      "\n",
      "Not logged inTalkContributionsCreate accountLog in\n",
      "\n",
      "\n",
      "\n",
      "\n",
      "Namespaces\n",
      "\n",
      "\n",
      "Main PageTalk\n",
      "\n",
      "\n",
      "\n",
      "\n",
      "Variants\n",
      "\n",
      "\n",
      "\n",
      "\n",
      "\n",
      "\n",
      "\n",
      "\n",
      "Views\n",
      "\n",
      "\n",
      "ReadView sourceView history\n",
      "\n",
      "\n",
      "\n",
      "\n",
      "More\n",
      "\n",
      "\n",
      "\n",
      "\n",
      "\n",
      "\n",
      "\n",
      "\n",
      "Search\n",
      "\n",
      "\n",
      "\n",
      "\n",
      "\n",
      "\n",
      "\n",
      "\n",
      "\n",
      "\n",
      "\n",
      "\n",
      "\n",
      "\n",
      "\n",
      "\n",
      "\n",
      "\n",
      "Navigation\n",
      "\n",
      "\n",
      "Main pageContentsCurrent eventsRandom articleAbout WikipediaContact usDonate\n",
      "\n",
      "\n",
      "\n",
      "Contribute\n",
      "\n",
      "\n",
      "HelpLearn to editCommunity porta\n"
     ]
    }
   ],
   "source": [
    "print(txt_dump[7000:8500])"
   ]
  },
  {
   "cell_type": "markdown",
   "id": "c27c2fc8",
   "metadata": {},
   "source": [
    "<span style='color:steelblue'> **8: Extract the text from the section 'From today's featured article'** </span>"
   ]
  },
  {
   "cell_type": "code",
   "execution_count": 23,
   "id": "06270738",
   "metadata": {},
   "outputs": [],
   "source": [
    "# First extract the starting and end indices of the text we are interested in\n",
    "idx1=txt_dump.find(\"From today's featured article\")\n",
    "idx2=txt_dump.find(\"Recently featured\")"
   ]
  },
  {
   "cell_type": "code",
   "execution_count": 24,
   "id": "b917994b",
   "metadata": {},
   "outputs": [
    {
     "data": {
      "text/plain": [
       "(352, 1407)"
      ]
     },
     "execution_count": 24,
     "metadata": {},
     "output_type": "execute_result"
    }
   ],
   "source": [
    "idx1, idx2"
   ]
  },
  {
   "cell_type": "code",
   "execution_count": 25,
   "id": "570d647b",
   "metadata": {},
   "outputs": [
    {
     "name": "stdout",
     "output_type": "stream",
     "text": [
      "\n",
      "\n",
      "\n",
      "Trey Parker and Matt Stone, creators of South Park\n",
      "\n",
      "South Park: The Stick of Truth is a 2014 role-playing video game developed by Obsidian Entertainment in collaboration with South Park Digital Studios, and published by Ubisoft for Microsoft Windows, PlayStation 3, and Xbox 360. Based on the American adult animated television series South Park, the game features whimsical fantasy role-playing. As the New Kid, the player can freely explore the town of South Park with a supporting party of characters, fighting aliens, Nazi zombies, and gnomes. The visuals replicate the aesthetic of the television series. South Park creators Trey Parker and Matt Stone (both pictured) wrote the game's script, consulted on the design and voiced many of the characters, as in the television program. Reviewers praised the comedic script and authentic visual style, but some faulted the game over technical issues and a lack of challenging combat. A sequel, South Park: The Fractured but Whole, was released in 2017. (Full article...)\n",
      "\n",
      "\n",
      "R\n"
     ]
    }
   ],
   "source": [
    "print(txt_dump[idx1+len(\"From today's featured article\"):idx2+1])\n"
   ]
  },
  {
   "cell_type": "markdown",
   "id": "71681318",
   "metadata": {},
   "source": [
    "<span style='color:steelblue'> **9: Try to extract the important historical events that happened on today's date...** </span>"
   ]
  },
  {
   "cell_type": "code",
   "execution_count": 26,
   "id": "e4f84bfb",
   "metadata": {},
   "outputs": [],
   "source": [
    "idx3=txt_dump.find(\"On this day\")"
   ]
  },
  {
   "cell_type": "code",
   "execution_count": 27,
   "id": "c1d203a0",
   "metadata": {},
   "outputs": [
    {
     "name": "stdout",
     "output_type": "stream",
     "text": [
      "\n",
      "\n",
      "August 6\n",
      "\n",
      "\n",
      "\n",
      "Johnson signing the Voting Rights Act into law\n",
      "\n",
      "1861 – Under the threat of military bombardment, Dosunmu, Oba of Lagos, ceded the island of Lagos to British forces.\n",
      "1890 – At Auburn Prison in the U.S. state of New York, William Kemmler became the first person to be executed by electric chair.\n",
      "1965 – U.S. president Lyndon B. Johnson signed the Voting Rights Act into law (pictured), outlawing literacy tests and other discriminatory voting practices that had been responsible for the widespread disfranchisement of African Americans.\n",
      "1991 – British computer programmer Tim Berners-Lee posted a public invitation to collaborate on a system of interlinked, hypertext documents accessible via the Internet, known as the World Wide Web.\n",
      "Saint Dominic  (d. 1221)Bix Beiderbecke  (d. 1931)Shapour Bakhtiar  (d. 1991)\n",
      "\n",
      "More anniversaries: \n",
      "August 5\n",
      "August 6\n",
      "August 7\n",
      "\n",
      "\n",
      "Archive\n",
      "By email\n",
      "List of days of the year\n",
      "\n",
      "\n",
      "\n",
      "\n",
      "From today's featured list\n",
      "\n",
      "Phil Younghusband\n",
      "\n",
      "Former professional associatio\n"
     ]
    }
   ],
   "source": [
    "print(txt_dump[idx3+len(\"On this day\"):idx3+len(\"On this day\")+1000])\n"
   ]
  },
  {
   "cell_type": "markdown",
   "id": "c140172d",
   "metadata": {},
   "source": [
    "<span style='color:steelblue'> **10: Use advanced BS4 technique to extract relevant text without guessing or hard coding where to look** </span>"
   ]
  },
  {
   "cell_type": "code",
   "execution_count": 28,
   "id": "532a8ddf",
   "metadata": {},
   "outputs": [
    {
     "name": "stdout",
     "output_type": "stream",
     "text": [
      "1861 – Under the threat of military bombardment, Dosunmu, Oba of Lagos, ceded the island of Lagos to British forces.\n",
      "1890 – At Auburn Prison in the U.S. state of New York, William Kemmler became the first person to be executed by electric chair.\n",
      "1965 – U.S. president Lyndon B. Johnson signed the Voting Rights Act into law (pictured), outlawing literacy tests and other discriminatory voting practices that had been responsible for the widespread disfranchisement of African Americans.\n",
      "1991 – British computer programmer Tim Berners-Lee posted a public invitation to collaborate on a system of interlinked, hypertext documents accessible via the Internet, known as the World Wide Web.\n",
      "Saint Dominic  (d. 1221)Bix Beiderbecke  (d. 1931)Shapour Bakhtiar  (d. 1991)\n",
      "August 5\n",
      "August 6\n",
      "August 7\n",
      "Archive\n",
      "By email\n",
      "List of days of the year\n"
     ]
    }
   ],
   "source": [
    "for d in soup.find_all('div'):\n",
    "        if (d.get('id')=='mp-otd'):\n",
    "            for i in d.find_all('ul'):\n",
    "                print(i.text)"
   ]
  },
  {
   "cell_type": "code",
   "execution_count": 29,
   "id": "00e80335",
   "metadata": {},
   "outputs": [],
   "source": [
    "text_list=[]\n",
    "for d in soup.find_all('div'):\n",
    "        if (d.get('id')=='mp-otd'):\n",
    "            for i in d.find_all('ul'):\n",
    "                text_list.append(i.text)"
   ]
  },
  {
   "cell_type": "code",
   "execution_count": 30,
   "id": "2bfbe489",
   "metadata": {},
   "outputs": [
    {
     "data": {
      "text/plain": [
       "4"
      ]
     },
     "execution_count": 30,
     "metadata": {},
     "output_type": "execute_result"
    }
   ],
   "source": [
    "len(text_list)"
   ]
  },
  {
   "cell_type": "code",
   "execution_count": 31,
   "id": "1f3bf3e3",
   "metadata": {},
   "outputs": [
    {
     "name": "stdout",
     "output_type": "stream",
     "text": [
      "1861 – Under the threat of military bombardment, Dosunmu, Oba of Lagos, ceded the island of Lagos to British forces.\n",
      "1890 – At Auburn Prison in the U.S. state of New York, William Kemmler became the first person to be executed by electric chair.\n",
      "1965 – U.S. president Lyndon B. Johnson signed the Voting Rights Act into law (pictured), outlawing literacy tests and other discriminatory voting practices that had been responsible for the widespread disfranchisement of African Americans.\n",
      "1991 – British computer programmer Tim Berners-Lee posted a public invitation to collaborate on a system of interlinked, hypertext documents accessible via the Internet, known as the World Wide Web.\n",
      "----------------------------------------------------------------------------------------------------\n",
      "Saint Dominic  (d. 1221)Bix Beiderbecke  (d. 1931)Shapour Bakhtiar  (d. 1991)\n",
      "----------------------------------------------------------------------------------------------------\n",
      "August 5\n",
      "August 6\n",
      "August 7\n",
      "----------------------------------------------------------------------------------------------------\n",
      "Archive\n",
      "By email\n",
      "List of days of the year\n",
      "----------------------------------------------------------------------------------------------------\n"
     ]
    }
   ],
   "source": [
    "for i in text_list:\n",
    "    print(i)\n",
    "    print('-'*100)"
   ]
  },
  {
   "cell_type": "code",
   "execution_count": 36,
   "id": "0031b339",
   "metadata": {},
   "outputs": [
    {
     "name": "stdout",
     "output_type": "stream",
     "text": [
      "1861 – Under the threat of military bombardment, Dosunmu, Oba of Lagos, ceded the island of Lagos to British forces.\n",
      "1890 – At Auburn Prison in the U.S. state of New York, William Kemmler became the first person to be executed by electric chair.\n",
      "1965 – U.S. president Lyndon B. Johnson signed the Voting Rights Act into law (pictured), outlawing literacy tests and other discriminatory voting practices that had been responsible for the widespread disfranchisement of African Americans.\n",
      "1991 – British computer programmer Tim Berners-Lee posted a public invitation to collaborate on a system of interlinked, hypertext documents accessible via the Internet, known as the World Wide Web.\n"
     ]
    }
   ],
   "source": [
    "print(text_list[0])"
   ]
  },
  {
   "cell_type": "markdown",
   "id": "e4cecf88",
   "metadata": {},
   "source": [
    "<span style='color:steelblue'> **Functionalize this process i.e. write a compact function to extract \"On this day\" text from Wikipedia Home Page** </span>"
   ]
  },
  {
   "cell_type": "code",
   "execution_count": 37,
   "id": "6de8ed6f",
   "metadata": {},
   "outputs": [],
   "source": [
    "\n",
    "def wiki_on_this_day(url=\"https://en.wikipedia.org/wiki/Main_Page\"):\n",
    "    \"\"\"\n",
    "    Extracts the text corresponding to the \"On this day\" section on the Wikipedia Home Page.\n",
    "    Accepts the Wikipedia Home Page URL as a string, a default URL is provided.\n",
    "    \"\"\"\n",
    "    import requests\n",
    "    from bs4 import BeautifulSoup\n",
    "    \n",
    "    wiki_home = str(url)\n",
    "    response = requests.get(wiki_home)\n",
    "    \n",
    "    def status_check(r):\n",
    "        if r.status_code==200:\n",
    "            return 1\n",
    "        else:\n",
    "            return -1\n",
    "    \n",
    "    status = status_check(response)\n",
    "    if status==1:\n",
    "        contents = decode_content(response,encoding_check(response))\n",
    "    else:\n",
    "        print(\"Sorry could not reach the web page!\")\n",
    "        return -1\n",
    "    \n",
    "    soup = BeautifulSoup(contents, 'html.parser')\n",
    "    text_list=[]\n",
    "    \n",
    "    for d in soup.find_all('div'):\n",
    "            if (d.get('id')=='mp-otd'):\n",
    "                for i in d.find_all('ul'):\n",
    "                    text_list.append(i.text)\n",
    "    \n",
    "    return (text_list[0])"
   ]
  },
  {
   "cell_type": "code",
   "execution_count": 38,
   "id": "9f81867d",
   "metadata": {},
   "outputs": [
    {
     "name": "stdout",
     "output_type": "stream",
     "text": [
      "1861 – Under the threat of military bombardment, Dosunmu, Oba of Lagos, ceded the island of Lagos to British forces.\n",
      "1890 – At Auburn Prison in the U.S. state of New York, William Kemmler became the first person to be executed by electric chair.\n",
      "1965 – U.S. president Lyndon B. Johnson signed the Voting Rights Act into law (pictured), outlawing literacy tests and other discriminatory voting practices that had been responsible for the widespread disfranchisement of African Americans.\n",
      "1991 – British computer programmer Tim Berners-Lee posted a public invitation to collaborate on a system of interlinked, hypertext documents accessible via the Internet, known as the World Wide Web.\n"
     ]
    }
   ],
   "source": [
    "print(wiki_on_this_day())"
   ]
  },
  {
   "cell_type": "markdown",
   "id": "aae402f0",
   "metadata": {},
   "source": [
    "***A wrong URL produces an error message as expected***"
   ]
  },
  {
   "cell_type": "code",
   "execution_count": 39,
   "id": "8f58d892",
   "metadata": {},
   "outputs": [
    {
     "name": "stdout",
     "output_type": "stream",
     "text": [
      "Sorry could not reach the web page!\n",
      "-1\n"
     ]
    }
   ],
   "source": [
    "print(wiki_on_this_day(\"https://en.wikipedia.org/wiki/Main_Page1\"))"
   ]
  },
  {
   "cell_type": "code",
   "execution_count": null,
   "id": "b8f20608",
   "metadata": {},
   "outputs": [],
   "source": []
  }
 ],
 "metadata": {
  "kernelspec": {
   "display_name": "Python 3",
   "language": "python",
   "name": "python3"
  },
  "language_info": {
   "codemirror_mode": {
    "name": "ipython",
    "version": 3
   },
   "file_extension": ".py",
   "mimetype": "text/x-python",
   "name": "python",
   "nbconvert_exporter": "python",
   "pygments_lexer": "ipython3",
   "version": "3.8.8"
  },
  "toc": {
   "base_numbering": 1,
   "nav_menu": {},
   "number_sections": true,
   "sideBar": true,
   "skip_h1_title": false,
   "title_cell": "Table of Contents",
   "title_sidebar": "Contents",
   "toc_cell": false,
   "toc_position": {},
   "toc_section_display": true,
   "toc_window_display": false
  }
 },
 "nbformat": 4,
 "nbformat_minor": 5
}
